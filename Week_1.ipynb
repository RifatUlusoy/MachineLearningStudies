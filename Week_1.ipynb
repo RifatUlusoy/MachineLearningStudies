{
 "cells": [
  {
   "cell_type": "code",
   "execution_count": 1,
   "id": "adad5317",
   "metadata": {},
   "outputs": [
    {
     "name": "stdout",
     "output_type": "stream",
     "text": [
      "10\n"
     ]
    }
   ],
   "source": [
    "var=10\n",
    "var2=15\n",
    "\n",
    "gun=\"pazartesi\"\n",
    "print(var)"
   ]
  },
  {
   "cell_type": "code",
   "execution_count": 3,
   "id": "c9df87f8",
   "metadata": {},
   "outputs": [
    {
     "data": {
      "text/plain": [
       "list"
      ]
     },
     "execution_count": 3,
     "metadata": {},
     "output_type": "execute_result"
    }
   ],
   "source": [
    "var1=\"10\"\n",
    "var2=\"20\"\n",
    "var3=\"30\"\n",
    "list_str=[var1,var2,var3]\n",
    "type(list_str)"
   ]
  },
  {
   "cell_type": "code",
   "execution_count": 5,
   "id": "d83e8783",
   "metadata": {},
   "outputs": [
    {
     "data": {
      "text/plain": [
       "['10', '30']"
      ]
     },
     "execution_count": 5,
     "metadata": {},
     "output_type": "execute_result"
    }
   ],
   "source": [
    "list_str[0]\n",
    "list_str[-1]\n",
    "list_str[0:3]\n",
    "list_str[::2]"
   ]
  },
  {
   "cell_type": "code",
   "execution_count": 6,
   "id": "60b3d1de",
   "metadata": {},
   "outputs": [
    {
     "name": "stdout",
     "output_type": "stream",
     "text": [
      "['10', '20', '30', '40']\n"
     ]
    }
   ],
   "source": [
    "list_str.append(\"40\")\n",
    "print(list_str)"
   ]
  },
  {
   "cell_type": "code",
   "execution_count": 7,
   "id": "a6517982",
   "metadata": {},
   "outputs": [
    {
     "name": "stdout",
     "output_type": "stream",
     "text": [
      "['20', '30', '40']\n"
     ]
    }
   ],
   "source": [
    "list_str.remove(\"10\")\n",
    "print(list_str)"
   ]
  },
  {
   "cell_type": "code",
   "execution_count": 8,
   "id": "0e1a899a",
   "metadata": {},
   "outputs": [
    {
     "name": "stdout",
     "output_type": "stream",
     "text": [
      "['40', '30', '20']\n"
     ]
    }
   ],
   "source": [
    "list_str.reverse()\n",
    "print(list_str)"
   ]
  },
  {
   "cell_type": "code",
   "execution_count": 9,
   "id": "7b53d383",
   "metadata": {},
   "outputs": [
    {
     "name": "stdout",
     "output_type": "stream",
     "text": [
      "['20', '30', '40']\n"
     ]
    }
   ],
   "source": [
    "list_str.sort()\n",
    "print(list_str)"
   ]
  },
  {
   "cell_type": "code",
   "execution_count": 10,
   "id": "7f63d552",
   "metadata": {},
   "outputs": [
    {
     "name": "stdout",
     "output_type": "stream",
     "text": [
      "1\n",
      "2\n",
      "3\n",
      "4\n",
      "5\n",
      "6\n",
      "7\n",
      "8\n",
      "9\n",
      "10\n",
      "11\n",
      "12\n"
     ]
    }
   ],
   "source": [
    "for i in range(1,13):\n",
    "    print(i)"
   ]
  },
  {
   "cell_type": "code",
   "execution_count": 11,
   "id": "f47fa883",
   "metadata": {},
   "outputs": [
    {
     "name": "stdout",
     "output_type": "stream",
     "text": [
      "67\n"
     ]
    }
   ],
   "source": [
    "max_=10\n",
    "list_=[4,5,2,12,44,15,67]\n",
    "for i in list_:\n",
    "    if max_<i:\n",
    "        max_=i\n",
    "    else:\n",
    "        continue\n",
    "print(max_)"
   ]
  },
  {
   "cell_type": "code",
   "execution_count": 12,
   "id": "429460a0",
   "metadata": {},
   "outputs": [
    {
     "name": "stdout",
     "output_type": "stream",
     "text": [
      "0\n",
      "1\n",
      "2\n",
      "3\n"
     ]
    }
   ],
   "source": [
    "i=0\n",
    "while(i<4):\n",
    "    print(i)\n",
    "    i=i+1"
   ]
  },
  {
   "cell_type": "code",
   "execution_count": 13,
   "id": "8822c910",
   "metadata": {},
   "outputs": [
    {
     "data": {
      "text/plain": [
       "12.56"
      ]
     },
     "execution_count": 13,
     "metadata": {},
     "output_type": "execute_result"
    }
   ],
   "source": [
    "def cember_cevre(r,pi=3.14):\n",
    "    output=2*pi*r\n",
    "    return output\n",
    "\n",
    "cember_cevre(2)"
   ]
  },
  {
   "cell_type": "code",
   "execution_count": 14,
   "id": "ef447ce7",
   "metadata": {},
   "outputs": [
    {
     "name": "stdout",
     "output_type": "stream",
     "text": [
      "9\n",
      "4\n"
     ]
    }
   ],
   "source": [
    "def hesapla(x):\n",
    "    output=x*x\n",
    "    return output\n",
    "sonuc=hesapla(3)\n",
    "print(sonuc)\n",
    "\n",
    "sonuc2=lambda x:x*x\n",
    "print(sonuc2(2))"
   ]
  },
  {
   "cell_type": "code",
   "execution_count": 15,
   "id": "6efe0eef",
   "metadata": {},
   "outputs": [
    {
     "name": "stdout",
     "output_type": "stream",
     "text": [
      "{'Rıfat': 23, 'Ahmet': 26, 'Mehmet': 24}\n",
      "<class 'dict'>\n"
     ]
    }
   ],
   "source": [
    "dictionary={\"Rıfat\":23,\"Ahmet\":26,\"Mehmet\":24}\n",
    "print(dictionary)\n",
    "print(type(dictionary))"
   ]
  },
  {
   "cell_type": "code",
   "execution_count": 16,
   "id": "aac113d9",
   "metadata": {},
   "outputs": [
    {
     "data": {
      "text/plain": [
       "dict_keys(['Rıfat', 'Ahmet', 'Mehmet'])"
      ]
     },
     "execution_count": 16,
     "metadata": {},
     "output_type": "execute_result"
    }
   ],
   "source": [
    "dictionary.keys()"
   ]
  },
  {
   "cell_type": "code",
   "execution_count": 17,
   "id": "24888fa1",
   "metadata": {},
   "outputs": [
    {
     "data": {
      "text/plain": [
       "dict_values([23, 26, 24])"
      ]
     },
     "execution_count": 17,
     "metadata": {},
     "output_type": "execute_result"
    }
   ],
   "source": [
    "dictionary.values()"
   ]
  },
  {
   "cell_type": "code",
   "execution_count": 18,
   "id": "855bd705",
   "metadata": {},
   "outputs": [
    {
     "name": "stdout",
     "output_type": "stream",
     "text": [
      "yes\n"
     ]
    }
   ],
   "source": [
    "keys=dictionary.keys()\n",
    "if \"Rıfat\" in keys:\n",
    "    print(\"yes\")\n",
    "    \n",
    "else:\n",
    "    print(\"no\")"
   ]
  },
  {
   "cell_type": "code",
   "execution_count": null,
   "id": "9bee0eac",
   "metadata": {},
   "outputs": [],
   "source": []
  }
 ],
 "metadata": {
  "kernelspec": {
   "display_name": "Python 3 (ipykernel)",
   "language": "python",
   "name": "python3"
  },
  "language_info": {
   "codemirror_mode": {
    "name": "ipython",
    "version": 3
   },
   "file_extension": ".py",
   "mimetype": "text/x-python",
   "name": "python",
   "nbconvert_exporter": "python",
   "pygments_lexer": "ipython3",
   "version": "3.9.13"
  }
 },
 "nbformat": 4,
 "nbformat_minor": 5
}
